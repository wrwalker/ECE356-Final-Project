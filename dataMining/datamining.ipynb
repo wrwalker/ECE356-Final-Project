{
 "cells": [
  {
   "cell_type": "markdown",
   "id": "49f375dd",
   "metadata": {},
   "source": [
    "# Goal\n",
    "At a high level, we are trying to use datamining to answer, what sorts of twitter activity effect election results.\n",
    "We will be exploring presidential election wins at the county level using a few metrics\n",
    "- Percentage of tweets talking about the candidate\n",
    "- Likes of tweets\n",
    "- Sentiment of tweets\n",
    "- Number of retweets on a tweet\n",
    "\n",
    "the sentiment, likes and number of retweets are rolled up into a composite score called `weightedSentimentOfTweets`."
   ]
  },
  {
   "cell_type": "code",
   "execution_count": 9,
   "id": "fa1bd5e1",
   "metadata": {},
   "outputs": [
    {
     "name": "stdout",
     "output_type": "stream",
     "text": [
      "Requirement already satisfied: pandas in /usr/local/Cellar/jupyterlab/3.0.14/libexec/lib/python3.9/site-packages (1.2.4)\n",
      "Requirement already satisfied: python-dateutil>=2.7.3 in /usr/local/Cellar/jupyterlab/3.0.14/libexec/lib/python3.9/site-packages (from pandas) (2.8.1)\n",
      "Requirement already satisfied: numpy>=1.16.5 in /usr/local/Cellar/jupyterlab/3.0.14/libexec/lib/python3.9/site-packages (from pandas) (1.20.2)\n",
      "Requirement already satisfied: pytz>=2017.3 in /usr/local/Cellar/jupyterlab/3.0.14/libexec/lib/python3.9/site-packages (from pandas) (2021.1)\n",
      "Requirement already satisfied: six>=1.5 in /usr/local/Cellar/jupyterlab/3.0.14/libexec/lib/python3.9/site-packages (from python-dateutil>=2.7.3->pandas) (1.15.0)\n",
      "Note: you may need to restart the kernel to use updated packages.\n",
      "Requirement already satisfied: numpy in /usr/local/Cellar/jupyterlab/3.0.14/libexec/lib/python3.9/site-packages (1.20.2)\n",
      "Note: you may need to restart the kernel to use updated packages.\n",
      "Requirement already satisfied: matplotlib in /usr/local/Cellar/jupyterlab/3.0.14/libexec/lib/python3.9/site-packages (3.4.1)\n",
      "Requirement already satisfied: cycler>=0.10 in /usr/local/Cellar/jupyterlab/3.0.14/libexec/lib/python3.9/site-packages (from matplotlib) (0.10.0)\n",
      "Requirement already satisfied: pillow>=6.2.0 in /usr/local/Cellar/jupyterlab/3.0.14/libexec/lib/python3.9/site-packages (from matplotlib) (8.2.0)\n",
      "Requirement already satisfied: pyparsing>=2.2.1 in /usr/local/Cellar/jupyterlab/3.0.14/libexec/lib/python3.9/site-packages (from matplotlib) (2.4.7)\n",
      "Requirement already satisfied: python-dateutil>=2.7 in /usr/local/Cellar/jupyterlab/3.0.14/libexec/lib/python3.9/site-packages (from matplotlib) (2.8.1)\n",
      "Requirement already satisfied: kiwisolver>=1.0.1 in /usr/local/Cellar/jupyterlab/3.0.14/libexec/lib/python3.9/site-packages (from matplotlib) (1.3.1)\n",
      "Requirement already satisfied: numpy>=1.16 in /usr/local/Cellar/jupyterlab/3.0.14/libexec/lib/python3.9/site-packages (from matplotlib) (1.20.2)\n",
      "Requirement already satisfied: six in /usr/local/Cellar/jupyterlab/3.0.14/libexec/lib/python3.9/site-packages (from cycler>=0.10->matplotlib) (1.15.0)\n",
      "Note: you may need to restart the kernel to use updated packages.\n",
      "Requirement already satisfied: sklearn in /usr/local/Cellar/jupyterlab/3.0.14/libexec/lib/python3.9/site-packages (0.0)\n",
      "Requirement already satisfied: scikit-learn in /usr/local/Cellar/jupyterlab/3.0.14/libexec/lib/python3.9/site-packages (from sklearn) (0.24.1)\n",
      "Requirement already satisfied: numpy>=1.13.3 in /usr/local/Cellar/jupyterlab/3.0.14/libexec/lib/python3.9/site-packages (from scikit-learn->sklearn) (1.20.2)\n",
      "Requirement already satisfied: joblib>=0.11 in /usr/local/Cellar/jupyterlab/3.0.14/libexec/lib/python3.9/site-packages (from scikit-learn->sklearn) (1.0.1)\n",
      "Requirement already satisfied: scipy>=0.19.1 in /usr/local/Cellar/jupyterlab/3.0.14/libexec/lib/python3.9/site-packages (from scikit-learn->sklearn) (1.6.2)\n",
      "Requirement already satisfied: threadpoolctl>=2.0.0 in /usr/local/Cellar/jupyterlab/3.0.14/libexec/lib/python3.9/site-packages (from scikit-learn->sklearn) (2.1.0)\n",
      "Note: you may need to restart the kernel to use updated packages.\n"
     ]
    }
   ],
   "source": [
    "# get dependencies\n",
    "%pip install pandas\n",
    "%pip install numpy\n",
    "%pip install matplotlib\n",
    "%pip install sklearn"
   ]
  },
  {
   "cell_type": "markdown",
   "id": "a842bb88",
   "metadata": {},
   "source": [
    "# Dataset\n",
    "Lets take a look at our dataset. This is our data after being cleaned and processed by the main.go script located at `SQLClient/src/internal/dataMiningProcessing`. Each row represents a county that the candidate won"
   ]
  },
  {
   "cell_type": "code",
   "execution_count": 33,
   "id": "7b2b2c64",
   "metadata": {},
   "outputs": [
    {
     "data": {
      "text/html": [
       "<div>\n",
       "<style scoped>\n",
       "    .dataframe tbody tr th:only-of-type {\n",
       "        vertical-align: middle;\n",
       "    }\n",
       "\n",
       "    .dataframe tbody tr th {\n",
       "        vertical-align: top;\n",
       "    }\n",
       "\n",
       "    .dataframe thead th {\n",
       "        text-align: right;\n",
       "    }\n",
       "</style>\n",
       "<table border=\"1\" class=\"dataframe\">\n",
       "  <thead>\n",
       "    <tr style=\"text-align: right;\">\n",
       "      <th></th>\n",
       "      <th>county</th>\n",
       "      <th>state</th>\n",
       "      <th>weightedSentimentOfTweets</th>\n",
       "      <th>percentOfTweets</th>\n",
       "    </tr>\n",
       "  </thead>\n",
       "  <tbody>\n",
       "    <tr>\n",
       "      <th>0</th>\n",
       "      <td>Johnson</td>\n",
       "      <td>Iowa</td>\n",
       "      <td>6.70</td>\n",
       "      <td>37.50</td>\n",
       "    </tr>\n",
       "    <tr>\n",
       "      <th>1</th>\n",
       "      <td>St. Francis</td>\n",
       "      <td>Arkansas</td>\n",
       "      <td>0.00</td>\n",
       "      <td>0.00</td>\n",
       "    </tr>\n",
       "    <tr>\n",
       "      <th>2</th>\n",
       "      <td>Tippecanoe</td>\n",
       "      <td>Indiana</td>\n",
       "      <td>3.40</td>\n",
       "      <td>76.92</td>\n",
       "    </tr>\n",
       "    <tr>\n",
       "      <th>3</th>\n",
       "      <td>Anne Arundel</td>\n",
       "      <td>Maryland</td>\n",
       "      <td>6.75</td>\n",
       "      <td>20.53</td>\n",
       "    </tr>\n",
       "    <tr>\n",
       "      <th>4</th>\n",
       "      <td>Winchester City</td>\n",
       "      <td>Virginia</td>\n",
       "      <td>-1.50</td>\n",
       "      <td>50.00</td>\n",
       "    </tr>\n",
       "  </tbody>\n",
       "</table>\n",
       "</div>"
      ],
      "text/plain": [
       "            county     state  weightedSentimentOfTweets  percentOfTweets\n",
       "0          Johnson      Iowa                       6.70            37.50\n",
       "1      St. Francis  Arkansas                       0.00             0.00\n",
       "2       Tippecanoe   Indiana                       3.40            76.92\n",
       "3     Anne Arundel  Maryland                       6.75            20.53\n",
       "4  Winchester City  Virginia                      -1.50            50.00"
      ]
     },
     "execution_count": 33,
     "metadata": {},
     "output_type": "execute_result"
    }
   ],
   "source": [
    "import pandas as pd\n",
    "import numpy as np\n",
    "import matplotlib\n",
    "import matplotlib.pyplot as plt\n",
    "\n",
    "import sklearn\n",
    "from sklearn import cluster\n",
    "\n",
    "%matplotlib inline\n",
    "\n",
    "bidenTweetData = pd.read_csv('../dataMiningDataSets/bidenprocessedTweetData.csv')\n",
    "bidenTweetData.head()"
   ]
  },
  {
   "cell_type": "code",
   "execution_count": 41,
   "id": "52bd3432",
   "metadata": {},
   "outputs": [
    {
     "data": {
      "text/plain": [
       "Text(0, 0.5, 'percent of Tweets')"
      ]
     },
     "execution_count": 41,
     "metadata": {},
     "output_type": "execute_result"
    },
    {
     "data": {
      "image/png": "[encoded data removed]",
      "text/plain": [
       "<Figure size 432x288 with 1 Axes>"
      ]
     },
     "metadata": {
      "needs_background": "light"
     },
     "output_type": "display_data"
    }
   ],
   "source": [
    "import pandas as pd\n",
    "import numpy as np\n",
    "import matplotlib\n",
    "import matplotlib.pyplot as plt\n",
    "\n",
    "import sklearn\n",
    "from sklearn import cluster\n",
    "\n",
    "%matplotlib inline\n",
    "\n",
    "tTweetData = pd.read_csv('../dataMiningDataSets/trumpprocessedTweetData.csv')\n",
    "bidenTweetData.head()\n",
    "\n",
    "\n",
    "tTweetData.columns=['county','state','weightedSentimentOfTweets','percentOfTweets']\n",
    "plt.scatter(tTweetData.weightedSentimentOfTweets, tTweetData.percentOfTweets)\n",
    "plt.title('Trump Tweet Data Scatterplot')\n",
    "plt.xlabel('weighted sentiment')\n",
    "plt.ylabel('percent of Tweets')\n",
    "\n"
   ]
  },
  {
   "cell_type": "code",
   "execution_count": 40,
   "id": "bf1ab223",
   "metadata": {},
   "outputs": [
    {
     "data": {
      "text/plain": [
       "Text(0, 0.5, 'percent of Tweets')"
      ]
     },
     "execution_count": 40,
     "metadata": {},
     "output_type": "execute_result"
    },
    {
     "data": {
      "image/png": "[encoded data removed]",
      "text/plain": [
       "<Figure size 432x288 with 1 Axes>"
      ]
     },
     "metadata": {
      "needs_background": "light"
     },
     "output_type": "display_data"
    }
   ],
   "source": [
    "import pandas as pd\n",
    "import numpy as np\n",
    "import matplotlib\n",
    "import matplotlib.pyplot as plt\n",
    "\n",
    "import sklearn\n",
    "from sklearn import cluster\n",
    "\n",
    "%matplotlib inline\n",
    "\n",
    "bidenTweetData = pd.read_csv('../dataMiningDataSets/bidenprocessedTweetData.csv')\n",
    "bidenTweetData.head()\n",
    "\n",
    "\n",
    "bidenTweetData.columns=['county','state','weightedSentimentOfTweets','percentOfTweets']\n",
    "plt.scatter(bidenTweetData.weightedSentimentOfTweets, bidenTweetData.percentOfTweets)\n",
    "plt.title('Biden Tweet Data Scatterplot')\n",
    "plt.xlabel('weighted sentiment')\n",
    "plt.ylabel('percent of Tweets')"
   ]
  },
  {
   "cell_type": "code",
   "execution_count": null,
   "id": "04c8751d",
   "metadata": {},
   "outputs": [],
   "source": []
  },
  {
   "cell_type": "code",
   "execution_count": null,
   "id": "1df08789",
   "metadata": {},
   "outputs": [],
   "source": []
  }
 ],
 "metadata": {
  "kernelspec": {
   "display_name": "Python 3",
   "language": "python",
   "name": "python3"
  },
  "language_info": {
   "codemirror_mode": {
    "name": "ipython",
    "version": 3
   },
   "file_extension": ".py",
   "mimetype": "text/x-python",
   "name": "python",
   "nbconvert_exporter": "python",
   "pygments_lexer": "ipython3",
   "version": "3.9.4"
  }
 },
 "nbformat": 4,
 "nbformat_minor": 5
}
